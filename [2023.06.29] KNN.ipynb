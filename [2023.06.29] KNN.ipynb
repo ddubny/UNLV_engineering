{
 "cells": [
  {
   "cell_type": "markdown",
   "id": "99a01049-e48f-4518-910d-f62d003f3074",
   "metadata": {},
   "source": [
    "# KNN algorithm \n",
    "\n",
    "library를 사용하지 않고 직접 프로그래밍하고 knn 알고리즘을 만들어보자. "
   ]
  },
  {
   "cell_type": "code",
   "execution_count": 84,
   "id": "0cd570bd-407c-4d7a-bc07-b1a50d4d3e4a",
   "metadata": {},
   "outputs": [],
   "source": [
    "import pandas as pd\n",
    "import numpy as np\n",
    "import matplotlib.pyplot as plt\n",
    "import seaborn as sns\n",
    "import math\n",
    "\n",
    "# from sklearn.preprocessing import StandardScaler"
   ]
  },
  {
   "cell_type": "markdown",
   "id": "3b8d16d2-6402-420c-ab6d-06df0c6575c1",
   "metadata": {},
   "source": [
    "< Follow this steps >\n",
    "\n",
    "1. For each test data in “MNIST_test.csv”, compute distances with the training data.\n",
    "2. Find the K-nearest neighbors and decide the majority class.\n",
    "3. Compare the prediction with the ground truth in the test data\\\n",
    "a. Correctly classified if the predicted label and the ground truth is identical.\\\n",
    "b. Incorrectly classified if the predicted label and ground truth is NOT identical.\n",
    "4. Repeat Step 1-4 for all data in the test data\n",
    "5. Then, you can count how many test data are correctly classified and incorrectly classified.\n",
    "6. Show the accuracy of your KNN. "
   ]
  },
  {
   "cell_type": "code",
   "execution_count": 85,
   "id": "a5f5adb9-4f27-4948-863e-5890b26663be",
   "metadata": {},
   "outputs": [],
   "source": [
    "df_train = pd.read_csv(\"http://mkang.faculty.unlv.edu/teaching/CS489_689/HW2/MNIST_training.csv\")\n",
    "df_test = pd.read_csv(\"http://mkang.faculty.unlv.edu/teaching/CS489_689/HW2/MNIST_test.csv\") "
   ]
  },
  {
   "cell_type": "code",
   "execution_count": 86,
   "id": "97e50445-580b-4b1b-81d0-a907b16deb74",
   "metadata": {},
   "outputs": [
    {
     "data": {
      "text/plain": [
       "(949, 785)"
      ]
     },
     "execution_count": 86,
     "metadata": {},
     "output_type": "execute_result"
    }
   ],
   "source": [
    "df_train.shape"
   ]
  },
  {
   "cell_type": "code",
   "execution_count": 87,
   "id": "fc155d76-1185-436f-a6bd-b7ea45952185",
   "metadata": {},
   "outputs": [
    {
     "data": {
      "text/plain": [
       "(50, 785)"
      ]
     },
     "execution_count": 87,
     "metadata": {},
     "output_type": "execute_result"
    }
   ],
   "source": [
    "df_test.shape"
   ]
  },
  {
   "cell_type": "code",
   "execution_count": 88,
   "id": "f1a9b590-4e11-4a6f-ae3c-08fbaebc6bc0",
   "metadata": {},
   "outputs": [],
   "source": [
    "train_x = df_train.iloc[:, 1:]\n",
    "train_y = df_train.iloc[:, 0]\n",
    "test_x = df_test.iloc[:, 1:]\n",
    "test_y = df_test.iloc[:, 0]"
   ]
  },
  {
   "cell_type": "code",
   "execution_count": 89,
   "id": "065d3838-dc54-46bb-bdd2-54d5c713d064",
   "metadata": {},
   "outputs": [
    {
     "data": {
      "text/plain": [
       "0      0\n",
       "1      0\n",
       "2      0\n",
       "3      0\n",
       "4      0\n",
       "      ..\n",
       "944    9\n",
       "945    9\n",
       "946    9\n",
       "947    9\n",
       "948    9\n",
       "Name: label, Length: 949, dtype: int64"
      ]
     },
     "execution_count": 89,
     "metadata": {},
     "output_type": "execute_result"
    }
   ],
   "source": [
    "train_y"
   ]
  },
  {
   "cell_type": "markdown",
   "id": "8301176e-063c-4972-ad8c-88666fc87d24",
   "metadata": {},
   "source": [
    "### 1. compute distances "
   ]
  },
  {
   "cell_type": "markdown",
   "id": "4539d558-603b-436f-aeab-5db1e7aa078b",
   "metadata": {},
   "source": [
    "유클리디안 거리를 이용하여 거리를 구하기 (유클리디안 거리 함수는 파이썬 라이브러리를 활용함. )"
   ]
  },
  {
   "cell_type": "code",
   "execution_count": 90,
   "id": "d79cb6cb-7ee6-4556-838e-ae9162c6e256",
   "metadata": {},
   "outputs": [],
   "source": [
    "from sklearn.metrics import pairwise_distances"
   ]
  },
  {
   "cell_type": "code",
   "execution_count": 91,
   "id": "9c37ba39-fe87-4e25-94aa-908b0b769af6",
   "metadata": {},
   "outputs": [],
   "source": [
    "distance = pairwise_distances(test_x, train_x)  "
   ]
  },
  {
   "cell_type": "code",
   "execution_count": 92,
   "id": "f9a96e4f-219a-4fbf-a9ac-3a39462e8514",
   "metadata": {},
   "outputs": [
    {
     "data": {
      "text/plain": [
       "array([[ 83,  89,  37, ..., 808, 926, 899],\n",
       "       [ 34,  33,  21, ..., 663, 619, 662],\n",
       "       [ 73, 273,  79, ..., 724, 363,  52],\n",
       "       ...,\n",
       "       [940, 879, 931, ...,  65,  34,  33],\n",
       "       [947, 912, 936, ...,  52,  34,  33],\n",
       "       [885, 940, 943, ...,  59,  34,  33]], dtype=int64)"
      ]
     },
     "execution_count": 92,
     "metadata": {},
     "output_type": "execute_result"
    }
   ],
   "source": [
    "sorted_distance = np.argsort(distance)\n",
    "sorted_distance"
   ]
  },
  {
   "cell_type": "markdown",
   "id": "997915d7-831b-4ea7-a1df-09c848af6f90",
   "metadata": {},
   "source": [
    "### 2. Find the K-nearest neighbors & decide the classes "
   ]
  },
  {
   "cell_type": "code",
   "execution_count": 93,
   "id": "bea60c26-7b11-49fb-89af-8f95c1981983",
   "metadata": {},
   "outputs": [],
   "source": [
    "k = 5   # change the k ( only for odd ) "
   ]
  },
  {
   "cell_type": "code",
   "execution_count": 94,
   "id": "ba0ff6e3-0cce-4cbe-a4be-1866e7ef86a0",
   "metadata": {
    "collapsed": true,
    "jupyter": {
     "outputs_hidden": true
    },
    "tags": []
   },
   "outputs": [
    {
     "data": {
      "text/plain": [
       "array([[ 83,  89,  37,  34,  85],\n",
       "       [ 34,  33,  21,   5,  28],\n",
       "       [ 73, 273,  79,   6, 854],\n",
       "       [ 13,  15,  41,  44,  81],\n",
       "       [ 94,  21,  28,  33,  34],\n",
       "       [181, 117, 168, 159, 150],\n",
       "       [186, 163, 183,  97, 172],\n",
       "       [187, 141,  97, 176, 103],\n",
       "       [105, 147, 121, 131, 111],\n",
       "       [128, 184, 169, 122, 125],\n",
       "       [299, 847, 809, 211, 767],\n",
       "       [206, 279, 215, 212, 251],\n",
       "       [206, 212, 279, 325, 137],\n",
       "       [703, 648, 625, 612, 733],\n",
       "       [269, 190, 703, 214, 205],\n",
       "       [710, 759, 348, 859, 898],\n",
       "       [376, 200, 309, 320, 304],\n",
       "       [299, 334, 319, 377, 842],\n",
       "       [339, 305, 308, 360, 371],\n",
       "       [291, 314, 376, 304, 308],\n",
       "       [444, 205, 416, 190, 759],\n",
       "       [441, 460, 422, 404, 425],\n",
       "       [461, 445, 413, 384, 380],\n",
       "       [421, 468, 381, 410, 383],\n",
       "       [915, 923, 673, 878, 909],\n",
       "       [554, 538, 537, 536, 883],\n",
       "       [613, 618, 810, 476, 642],\n",
       "       [476, 491, 807, 543, 810],\n",
       "       [542, 569, 551, 718, 505],\n",
       "       [546, 499, 524, 523, 483],\n",
       "       [ 17, 647, 637, 622,  54],\n",
       "       [609, 663, 572, 662, 611],\n",
       "       [638, 629, 646, 626, 650],\n",
       "       [654, 649, 656, 613, 581],\n",
       "       [577, 589, 587, 581, 659],\n",
       "       [739, 693, 667, 680, 935],\n",
       "       [694, 733, 704, 715, 933],\n",
       "       [674, 686, 752, 681, 746],\n",
       "       [739, 667, 731, 732, 686],\n",
       "       [699, 745, 679, 944, 856],\n",
       "       [828, 781, 760, 815, 834],\n",
       "       [796, 812, 792, 821, 797],\n",
       "       [852, 791, 760, 844, 793],\n",
       "       [350, 847, 299, 807, 848],\n",
       "       [783, 816, 797, 777, 760],\n",
       "       [856, 910, 924, 891, 889],\n",
       "       [706, 944, 717, 856, 711],\n",
       "       [940, 879, 931, 893, 899],\n",
       "       [947, 912, 936, 946, 917],\n",
       "       [885, 940, 943, 924, 910]], dtype=int64)"
      ]
     },
     "execution_count": 94,
     "metadata": {},
     "output_type": "execute_result"
    }
   ],
   "source": [
    "topk_distance = sorted_distance[:, :k]\n",
    "topk_distance"
   ]
  },
  {
   "cell_type": "code",
   "execution_count": 95,
   "id": "88e5ba12-7c4d-4a5b-b3c8-acb1f1155601",
   "metadata": {
    "tags": []
   },
   "outputs": [],
   "source": [
    "import statistics\n",
    "pred=[]\n",
    "\n",
    "for idx in topk_distance:\n",
    "    # print(train_y[ids-x])\n",
    "    #print(statistics.mode(train_y[idx]))\n",
    "    pred.append(statistics.mode(train_y[idx]))"
   ]
  },
  {
   "cell_type": "code",
   "execution_count": 96,
   "id": "75b92cde-1833-49f0-a914-9d53219055fe",
   "metadata": {
    "collapsed": true,
    "jupyter": {
     "outputs_hidden": true
    },
    "tags": []
   },
   "outputs": [
    {
     "data": {
      "text/plain": [
       "[0,\n",
       " 0,\n",
       " 0,\n",
       " 0,\n",
       " 0,\n",
       " 1,\n",
       " 1,\n",
       " 1,\n",
       " 1,\n",
       " 1,\n",
       " 8,\n",
       " 2,\n",
       " 2,\n",
       " 6,\n",
       " 2,\n",
       " 9,\n",
       " 3,\n",
       " 3,\n",
       " 3,\n",
       " 3,\n",
       " 4,\n",
       " 4,\n",
       " 4,\n",
       " 4,\n",
       " 9,\n",
       " 5,\n",
       " 6,\n",
       " 5,\n",
       " 5,\n",
       " 5,\n",
       " 6,\n",
       " 6,\n",
       " 6,\n",
       " 6,\n",
       " 6,\n",
       " 7,\n",
       " 7,\n",
       " 7,\n",
       " 7,\n",
       " 7,\n",
       " 8,\n",
       " 8,\n",
       " 8,\n",
       " 8,\n",
       " 8,\n",
       " 9,\n",
       " 7,\n",
       " 9,\n",
       " 9,\n",
       " 9]"
      ]
     },
     "execution_count": 96,
     "metadata": {},
     "output_type": "execute_result"
    }
   ],
   "source": [
    "pred   # prediction of group ( knn ) "
   ]
  },
  {
   "cell_type": "markdown",
   "id": "487f3649-a06a-4a19-aec9-2aed6b24d943",
   "metadata": {},
   "source": [
    "### 4. Accuracy"
   ]
  },
  {
   "cell_type": "code",
   "execution_count": 97,
   "id": "9b970b3c-b592-464d-a4f0-56f4a16ce2a5",
   "metadata": {
    "tags": []
   },
   "outputs": [
    {
     "data": {
      "text/plain": [
       "0.88"
      ]
     },
     "execution_count": 97,
     "metadata": {},
     "output_type": "execute_result"
    }
   ],
   "source": [
    "acc = (test_y == pred).sum() / len(test_y)\n",
    "acc"
   ]
  },
  {
   "cell_type": "markdown",
   "id": "dcc43101-c879-4f58-9978-3f1f7057d976",
   "metadata": {},
   "source": [
    "# 2023.03.30 "
   ]
  },
  {
   "cell_type": "markdown",
   "id": "94b5087d-ab89-4719-9f88-f8578a9927da",
   "metadata": {},
   "source": [
    "# Cross-validation "
   ]
  },
  {
   "cell_type": "markdown",
   "id": "d4c3369e-d25d-45c9-9f4c-cc3f4faa833e",
   "metadata": {
    "tags": []
   },
   "source": [
    "### K-fold CV"
   ]
  },
  {
   "cell_type": "markdown",
   "id": "9c3d7586-6107-4de6-acc5-394334b795c6",
   "metadata": {},
   "source": [
    "k-fold의 경우, k=5~10를 자주 사용하고, 실제 프로젝트에서는 데이터 레이블의 분포가 균등하지는 않기 때문에 Stratified cross-validation을 자주 사용한다. \n",
    "\n",
    "*현재의 MNIST 데이터의 경우 레이블 당 해당하는 데이터가 균등하기 때문에 큰 효과는 없음. \n"
   ]
  },
  {
   "cell_type": "code",
   "execution_count": 98,
   "id": "c4894933-2275-4a8b-a7be-f2c7c9ea637d",
   "metadata": {},
   "outputs": [],
   "source": [
    "from sklearn.datasets import make_classification\n",
    "from sklearn.model_selection import KFold\n",
    "from sklearn.model_selection import cross_val_score\n",
    "from sklearn.model_selection import StratifiedKFold"
   ]
  },
  {
   "cell_type": "markdown",
   "id": "a50200f6-b08f-4aa3-b657-f598af26bb45",
   "metadata": {},
   "source": [
    "앞서 사용했던 train data와 test data를 하나로 합친다. "
   ]
  },
  {
   "cell_type": "code",
   "execution_count": 99,
   "id": "d5b1ed75-f04e-4cc5-bba0-ad504936e55a",
   "metadata": {},
   "outputs": [],
   "source": [
    "# create dataset\n",
    "\n",
    "df = pd.concat([df_train, df_test])"
   ]
  },
  {
   "cell_type": "code",
   "execution_count": 100,
   "id": "5129a381-7e00-4dc4-8fda-47f8d9c3c8f9",
   "metadata": {},
   "outputs": [],
   "source": [
    "# 데이터 분할 \n",
    "\n",
    "X = df.iloc[:,1:]\n",
    "y = df['label']\n",
    "\n",
    "from sklearn.model_selection import train_test_split\n",
    "x_train, x_test, y_train, y_test=train_test_split(X,y,test_size=0.3)"
   ]
  },
  {
   "cell_type": "code",
   "execution_count": 101,
   "id": "a74618df-fedc-4e6b-9ea3-7a10729343d6",
   "metadata": {},
   "outputs": [],
   "source": [
    "# KNN 알고리즘 적합 \n",
    "\n",
    "def Euclidean_dist(pt1, pt2):\n",
    "    distance = np.sqrt(np.sum((pt1 - pt2) ** 2))\n",
    "    return distance\n",
    "\n",
    "def Nearest_neighbors(train, test_obs, n):\n",
    "    neighbor_distance = []\n",
    "    for i in range(len(train)):\n",
    "        dist = Euclidean_dist(train[i, 1:], test_obs[1:])  \n",
    "        neighbor_distance.append((dist, train[i, 0])) \n",
    "    neighbor_distance.sort(key=lambda x: x[0])\n",
    "    nearest_neighbors = neighbor_distance[:n]\n",
    "    labels = [neighbor[1] for neighbor in nearest_neighbors]\n",
    "    prediction = max(labels, key=labels.count)\n",
    "    return prediction\n",
    "\n",
    "# 데이터프레임을 NumPy 배열로 변환\n",
    "train_array = df_train.values\n",
    "test_obs_array = df_test.iloc[1, 1:].values\n",
    "test_label = df_test.iloc[1, 0]\n",
    "test_array = np.concatenate((test_obs_array, [test_label]))\n",
    "\n",
    "neighbor = []\n",
    "\n",
    "for i in range(0, 50):\n",
    "    test_obs_array = df_test.iloc[i, 1:].values\n",
    "    test_label = df_test.iloc[i, 0]\n",
    "    test_array = np.concatenate((test_obs_array, [test_label]))\n",
    "    neighbor.append(Nearest_neighbors(train_array, test_array, 3)) # k=9"
   ]
  },
  {
   "cell_type": "code",
   "execution_count": 102,
   "id": "43c0aed4-f5d2-4945-9200-6a3dd6cfd68c",
   "metadata": {},
   "outputs": [],
   "source": [
    "kfold = KFold(n_splits=10) \n",
    "n_iteration = 0 \n",
    "for train_index, test_index in kfold.split(df):\n",
    "    n_iteration += 1\n",
    "    label_train = df['label'].iloc[train_index]\n",
    "    label_test = df['label'].iloc[test_index]"
   ]
  },
  {
   "cell_type": "code",
   "execution_count": 103,
   "id": "a6de2e29-9f70-4fbb-a032-e46392de606f",
   "metadata": {},
   "outputs": [
    {
     "name": "stdout",
     "output_type": "stream",
     "text": [
      "0    95\n",
      "1    95\n",
      "2    95\n",
      "3    95\n",
      "4    95\n",
      "5    95\n",
      "7    95\n",
      "8    95\n",
      "6    94\n",
      "9    46\n",
      "Name: label, dtype: int64\n"
     ]
    }
   ],
   "source": [
    "print(label_train.value_counts())"
   ]
  },
  {
   "cell_type": "code",
   "execution_count": 104,
   "id": "59241e70-2c00-466b-a406-e58b8bb71537",
   "metadata": {},
   "outputs": [
    {
     "name": "stdout",
     "output_type": "stream",
     "text": [
      "9    54\n",
      "0     5\n",
      "1     5\n",
      "2     5\n",
      "3     5\n",
      "4     5\n",
      "5     5\n",
      "6     5\n",
      "7     5\n",
      "8     5\n",
      "Name: label, dtype: int64\n"
     ]
    }
   ],
   "source": [
    "print(label_test.value_counts())"
   ]
  },
  {
   "cell_type": "code",
   "execution_count": null,
   "id": "1fe27695-a3d9-4cb0-a528-674484256a45",
   "metadata": {},
   "outputs": [],
   "source": []
  },
  {
   "cell_type": "code",
   "execution_count": null,
   "id": "944fb79b-d26d-4d37-8071-530b3fcb35a0",
   "metadata": {},
   "outputs": [],
   "source": []
  },
  {
   "cell_type": "code",
   "execution_count": null,
   "id": "b31363ff-af5d-41e4-894d-812b5779eb81",
   "metadata": {},
   "outputs": [],
   "source": []
  }
 ],
 "metadata": {
  "kernelspec": {
   "display_name": "Python 3 (ipykernel)",
   "language": "python",
   "name": "python3"
  },
  "language_info": {
   "codemirror_mode": {
    "name": "ipython",
    "version": 3
   },
   "file_extension": ".py",
   "mimetype": "text/x-python",
   "name": "python",
   "nbconvert_exporter": "python",
   "pygments_lexer": "ipython3",
   "version": "3.9.13"
  }
 },
 "nbformat": 4,
 "nbformat_minor": 5
}
